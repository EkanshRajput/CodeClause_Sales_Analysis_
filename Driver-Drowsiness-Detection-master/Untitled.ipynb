{
 "cells": [
  {
   "cell_type": "code",
   "execution_count": 1,
   "id": "b444a5ba",
   "metadata": {},
   "outputs": [
    {
     "name": "stdout",
     "output_type": "stream",
     "text": [
      "Defaulting to user installation because normal site-packages is not writeable\n",
      "Note: you may need to restart the kernel to use updated packages.\n"
     ]
    },
    {
     "name": "stderr",
     "output_type": "stream",
     "text": [
      "WARNING: Retrying (Retry(total=4, connect=None, read=None, redirect=None, status=None)) after connection broken by 'NewConnectionError('<pip._vendor.urllib3.connection.HTTPSConnection object at 0x000001C49522EA90>: Failed to establish a new connection: [Errno 11001] getaddrinfo failed')': /simple/opencv-python/\n",
      "WARNING: Retrying (Retry(total=3, connect=None, read=None, redirect=None, status=None)) after connection broken by 'NewConnectionError('<pip._vendor.urllib3.connection.HTTPSConnection object at 0x000001C4952362E0>: Failed to establish a new connection: [Errno 11001] getaddrinfo failed')': /simple/opencv-python/\n",
      "WARNING: Retrying (Retry(total=2, connect=None, read=None, redirect=None, status=None)) after connection broken by 'NewConnectionError('<pip._vendor.urllib3.connection.HTTPSConnection object at 0x000001C495236250>: Failed to establish a new connection: [Errno 11001] getaddrinfo failed')': /simple/opencv-python/\n",
      "WARNING: Retrying (Retry(total=1, connect=None, read=None, redirect=None, status=None)) after connection broken by 'NewConnectionError('<pip._vendor.urllib3.connection.HTTPSConnection object at 0x000001C495236A60>: Failed to establish a new connection: [Errno 11001] getaddrinfo failed')': /simple/opencv-python/\n",
      "WARNING: Retrying (Retry(total=0, connect=None, read=None, redirect=None, status=None)) after connection broken by 'NewConnectionError('<pip._vendor.urllib3.connection.HTTPSConnection object at 0x000001C495236C10>: Failed to establish a new connection: [Errno 11001] getaddrinfo failed')': /simple/opencv-python/\n",
      "ERROR: Could not find a version that satisfies the requirement opencv-python (from versions: none)\n",
      "ERROR: No matching distribution found for opencv-python\n"
     ]
    }
   ],
   "source": [
    "pip install opencv-python\n"
   ]
  },
  {
   "cell_type": "code",
   "execution_count": 2,
   "id": "8483bf2b",
   "metadata": {},
   "outputs": [
    {
     "name": "stdout",
     "output_type": "stream",
     "text": [
      "Defaulting to user installation because normal site-packages is not writeable\n",
      "Collecting opencv-python\n",
      "  Using cached opencv_python-4.6.0.66-cp36-abi3-win_amd64.whl (35.6 MB)\n",
      "Requirement already satisfied: numpy>=1.19.3 in c:\\programdata\\anaconda3\\lib\\site-packages (from opencv-python) (1.21.5)\n",
      "Installing collected packages: opencv-python\n",
      "Successfully installed opencv-python-4.6.0.66\n",
      "Note: you may need to restart the kernel to use updated packages.\n"
     ]
    }
   ],
   "source": [
    "pip install opencv-python\n"
   ]
  },
  {
   "cell_type": "code",
   "execution_count": 1,
   "id": "851a1cf5",
   "metadata": {},
   "outputs": [
    {
     "name": "stdout",
     "output_type": "stream",
     "text": [
      "Defaulting to user installation because normal site-packages is not writeable\n",
      "Requirement already satisfied: numpy in c:\\programdata\\anaconda3\\lib\\site-packages (1.21.5)\n",
      "Note: you may need to restart the kernel to use updated packages.\n"
     ]
    }
   ],
   "source": [
    "pip install numpy"
   ]
  },
  {
   "cell_type": "code",
   "execution_count": 2,
   "id": "1fd6f6e2",
   "metadata": {},
   "outputs": [
    {
     "ename": "ModuleNotFoundError",
     "evalue": "No module named 'dlib'",
     "output_type": "error",
     "traceback": [
      "\u001b[1;31m---------------------------------------------------------------------------\u001b[0m",
      "\u001b[1;31mModuleNotFoundError\u001b[0m                       Traceback (most recent call last)",
      "Input \u001b[1;32mIn [2]\u001b[0m, in \u001b[0;36m<cell line: 6>\u001b[1;34m()\u001b[0m\n\u001b[0;32m      4\u001b[0m \u001b[38;5;28;01mimport\u001b[39;00m \u001b[38;5;21;01mnumpy\u001b[39;00m \u001b[38;5;28;01mas\u001b[39;00m \u001b[38;5;21;01mnp\u001b[39;00m\n\u001b[0;32m      5\u001b[0m \u001b[38;5;66;03m# Dlib for deep learning based Modules and face landmark detection\u001b[39;00m\n\u001b[1;32m----> 6\u001b[0m \u001b[38;5;28;01mimport\u001b[39;00m \u001b[38;5;21;01mdlib\u001b[39;00m\n\u001b[0;32m      7\u001b[0m \u001b[38;5;66;03m#face_utils for basic operations of conversion\u001b[39;00m\n\u001b[0;32m      8\u001b[0m \u001b[38;5;28;01mfrom\u001b[39;00m \u001b[38;5;21;01mimutils\u001b[39;00m \u001b[38;5;28;01mimport\u001b[39;00m face_utils\n",
      "\u001b[1;31mModuleNotFoundError\u001b[0m: No module named 'dlib'"
     ]
    }
   ],
   "source": [
    "#Importing OpenCV Library for basic image processing functions\n",
    "import cv2\n",
    "# Numpy for array related functions\n",
    "import numpy as np\n",
    "# Dlib for deep learning based Modules and face landmark detection\n",
    "import dlib\n",
    "#face_utils for basic operations of conversion\n",
    "from imutils import face_utils\n",
    "\n",
    "\n",
    "#Initializing the camera and taking the instance\n",
    "cap = cv2.VideoCapture(0)\n",
    "\n",
    "#Initializing the face detector and landmark detector\n",
    "detector = dlib.get_frontal_face_detector()\n",
    "predictor = dlib.shape_predictor(\"shape_predictor_68_face_landmarks.dat\")\n",
    "\n",
    "#status marking for current state\n",
    "sleep = 0\n",
    "drowsy = 0\n",
    "active = 0\n",
    "status=\"\"\n",
    "color=(0,0,0)\n",
    "\n",
    "def compute(ptA,ptB):\n",
    "\tdist = np.linalg.norm(ptA - ptB)\n",
    "\treturn dist\n",
    "\n",
    "def blinked(a,b,c,d,e,f):\n",
    "\tup = compute(b,d) + compute(c,e)\n",
    "\tdown = compute(a,f)\n",
    "\tratio = up/(2.0*down)\n",
    "\n",
    "\t#Checking if it is blinked\n",
    "\tif(ratio>0.25):\n",
    "\t\treturn 2\n",
    "\telif(ratio>0.21 and ratio<=0.25):\n",
    "\t\treturn 1\n",
    "\telse:\n",
    "\t\treturn 0\n",
    "\n",
    "\n",
    "while True:\n",
    "    _, frame = cap.read()\n",
    "    gray = cv2.cvtColor(frame, cv2.COLOR_BGR2GRAY)\n",
    "\n",
    "    faces = detector(gray)\n",
    "    #detected face in faces array\n",
    "    for face in faces:\n",
    "        x1 = face.left()\n",
    "        y1 = face.top()\n",
    "        x2 = face.right()\n",
    "        y2 = face.bottom()\n",
    "\n",
    "        face_frame = frame.copy()\n",
    "        cv2.rectangle(face_frame, (x1, y1), (x2, y2), (0, 255, 0), 2)\n",
    "\n",
    "        landmarks = predictor(gray, face)\n",
    "        landmarks = face_utils.shape_to_np(landmarks)\n",
    "\n",
    "        #The numbers are actually the landmarks which will show eye\n",
    "        left_blink = blinked(landmarks[36],landmarks[37], \n",
    "        \tlandmarks[38], landmarks[41], landmarks[40], landmarks[39])\n",
    "        right_blink = blinked(landmarks[42],landmarks[43], \n",
    "        \tlandmarks[44], landmarks[47], landmarks[46], landmarks[45])\n",
    "        \n",
    "        #Now judge what to do for the eye blinks\n",
    "        if(left_blink==0 or right_blink==0):\n",
    "        \tsleep+=1\n",
    "        \tdrowsy=0\n",
    "        \tactive=0\n",
    "        \tif(sleep>6):\n",
    "        \t\tstatus=\"SLEEPING !!!\"\n",
    "        \t\tcolor = (255,0,0)\n",
    "\n",
    "        elif(left_blink==1 or right_blink==1):\n",
    "        \tsleep=0\n",
    "        \tactive=0\n",
    "        \tdrowsy+=1\n",
    "        \tif(drowsy>6):\n",
    "        \t\tstatus=\"Drowsy !\"\n",
    "        \t\tcolor = (0,0,255)\n",
    "\n",
    "        else:\n",
    "        \tdrowsy=0\n",
    "        \tsleep=0\n",
    "        \tactive+=1\n",
    "        \tif(active>6):\n",
    "        \t\tstatus=\"Active :)\"\n",
    "        \t\tcolor = (0,255,0)\n",
    "        \t\n",
    "        cv2.putText(frame, status, (100,100), cv2.FONT_HERSHEY_SIMPLEX, 1.2, color,3)\n",
    "\n",
    "        for n in range(0, 68):\n",
    "        \t(x,y) = landmarks[n]\n",
    "        \tcv2.circle(face_frame, (x, y), 1, (255, 255, 255), -1)\n",
    "\n",
    "    cv2.imshow(\"Frame\", frame)\n",
    "    cv2.imshow(\"Result of detector\", face_frame)\n",
    "    key = cv2.waitKey(1)\n",
    "    if key == 27:\n",
    "      \tbreak"
   ]
  },
  {
   "cell_type": "code",
   "execution_count": 3,
   "id": "7063f3e5",
   "metadata": {},
   "outputs": [
    {
     "ename": "SyntaxError",
     "evalue": "invalid syntax (1225976447.py, line 1)",
     "output_type": "error",
     "traceback": [
      "\u001b[1;36m  Input \u001b[1;32mIn [3]\u001b[1;36m\u001b[0m\n\u001b[1;33m    conda create -n envname\u001b[0m\n\u001b[1;37m          ^\u001b[0m\n\u001b[1;31mSyntaxError\u001b[0m\u001b[1;31m:\u001b[0m invalid syntax\n"
     ]
    }
   ],
   "source": [
    "conda create -n envname\n",
    "conda activate envname\n",
    "conda install -c conda-forge dlib"
   ]
  },
  {
   "cell_type": "code",
   "execution_count": null,
   "id": "1c604fb0",
   "metadata": {},
   "outputs": [],
   "source": [
    "conda create -n envname"
   ]
  },
  {
   "cell_type": "code",
   "execution_count": null,
   "id": "3c993f26",
   "metadata": {},
   "outputs": [],
   "source": [
    "conda activate envname"
   ]
  },
  {
   "cell_type": "code",
   "execution_count": null,
   "id": "0218dfd8",
   "metadata": {},
   "outputs": [],
   "source": [
    "conda install -c conda-forge dlib"
   ]
  },
  {
   "cell_type": "code",
   "execution_count": null,
   "id": "0304be7a",
   "metadata": {},
   "outputs": [],
   "source": [
    "conda install pip"
   ]
  },
  {
   "cell_type": "code",
   "execution_count": null,
   "id": "0c8f591e",
   "metadata": {},
   "outputs": [],
   "source": [
    "pip install imutils"
   ]
  },
  {
   "cell_type": "code",
   "execution_count": null,
   "id": "0803edd4",
   "metadata": {},
   "outputs": [],
   "source": [
    "#Importing OpenCV Library for basic image processing functions\n",
    "import cv2\n",
    "# Numpy for array related functions\n",
    "import numpy as np\n",
    "# Dlib for deep learning based Modules and face landmark detection\n",
    "import dlib\n",
    "#face_utils for basic operations of conversion\n",
    "from imutils import face_utils\n",
    "\n",
    "\n",
    "#Initializing the camera and taking the instance\n",
    "cap = cv2.VideoCapture(0)\n",
    "\n",
    "#Initializing the face detector and landmark detector\n",
    "detector = dlib.get_frontal_face_detector()\n",
    "predictor = dlib.shape_predictor(\"shape_predictor_68_face_landmarks.dat\")\n",
    "\n",
    "#status marking for current state\n",
    "sleep = 0\n",
    "drowsy = 0\n",
    "active = 0\n",
    "status=\"\"\n",
    "color=(0,0,0)\n",
    "\n",
    "def compute(ptA,ptB):\n",
    "\tdist = np.linalg.norm(ptA - ptB)\n",
    "\treturn dist\n",
    "\n",
    "def blinked(a,b,c,d,e,f):\n",
    "\tup = compute(b,d) + compute(c,e)\n",
    "\tdown = compute(a,f)\n",
    "\tratio = up/(2.0*down)\n",
    "\n",
    "\t#Checking if it is blinked\n",
    "\tif(ratio>0.25):\n",
    "\t\treturn 2\n",
    "\telif(ratio>0.21 and ratio<=0.25):\n",
    "\t\treturn 1\n",
    "\telse:\n",
    "\t\treturn 0\n",
    "\n",
    "\n",
    "while True:\n",
    "    _, frame = cap.read()\n",
    "    gray = cv2.cvtColor(frame, cv2.COLOR_BGR2GRAY)\n",
    "\n",
    "    faces = detector(gray)\n",
    "    #detected face in faces array\n",
    "    for face in faces:\n",
    "        x1 = face.left()\n",
    "        y1 = face.top()\n",
    "        x2 = face.right()\n",
    "        y2 = face.bottom()\n",
    "\n",
    "        face_frame = frame.copy()\n",
    "        cv2.rectangle(face_frame, (x1, y1), (x2, y2), (0, 255, 0), 2)\n",
    "\n",
    "        landmarks = predictor(gray, face)\n",
    "        landmarks = face_utils.shape_to_np(landmarks)\n",
    "\n",
    "        #The numbers are actually the landmarks which will show eye\n",
    "        left_blink = blinked(landmarks[36],landmarks[37], \n",
    "        \tlandmarks[38], landmarks[41], landmarks[40], landmarks[39])\n",
    "        right_blink = blinked(landmarks[42],landmarks[43], \n",
    "        \tlandmarks[44], landmarks[47], landmarks[46], landmarks[45])\n",
    "        \n",
    "        #Now judge what to do for the eye blinks\n",
    "        if(left_blink==0 or right_blink==0):\n",
    "        \tsleep+=1\n",
    "        \tdrowsy=0\n",
    "        \tactive=0\n",
    "        \tif(sleep>6):\n",
    "        \t\tstatus=\"SLEEPING !!!\"\n",
    "        \t\tcolor = (255,0,0)\n",
    "\n",
    "        elif(left_blink==1 or right_blink==1):\n",
    "        \tsleep=0\n",
    "        \tactive=0\n",
    "        \tdrowsy+=1\n",
    "        \tif(drowsy>6):\n",
    "        \t\tstatus=\"Drowsy !\"\n",
    "        \t\tcolor = (0,0,255)\n",
    "\n",
    "        else:\n",
    "        \tdrowsy=0\n",
    "        \tsleep=0\n",
    "        \tactive+=1\n",
    "        \tif(active>6):\n",
    "        \t\tstatus=\"Active :)\"\n",
    "        \t\tcolor = (0,255,0)\n",
    "        \t\n",
    "        cv2.putText(frame, status, (100,100), cv2.FONT_HERSHEY_SIMPLEX, 1.2, color,3)\n",
    "\n",
    "        for n in range(0, 68):\n",
    "        \t(x,y) = landmarks[n]\n",
    "        \tcv2.circle(face_frame, (x, y), 1, (255, 255, 255), -1)\n",
    "\n",
    "    cv2.imshow(\"Frame\", frame)\n",
    "    cv2.imshow(\"Result of detector\", face_frame)\n",
    "    key = cv2.waitKey(1)\n",
    "    if key == 27:\n",
    "      \tbreak"
   ]
  },
  {
   "cell_type": "code",
   "execution_count": null,
   "id": "9cd54417",
   "metadata": {},
   "outputs": [],
   "source": []
  }
 ],
 "metadata": {
  "kernelspec": {
   "display_name": "Python 3 (ipykernel)",
   "language": "python",
   "name": "python3"
  },
  "language_info": {
   "codemirror_mode": {
    "name": "ipython",
    "version": 3
   },
   "file_extension": ".py",
   "mimetype": "text/x-python",
   "name": "python",
   "nbconvert_exporter": "python",
   "pygments_lexer": "ipython3",
   "version": "3.9.12"
  }
 },
 "nbformat": 4,
 "nbformat_minor": 5
}
